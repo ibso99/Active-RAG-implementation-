{
 "cells": [
  {
   "cell_type": "markdown",
   "id": "aafac562",
   "metadata": {},
   "source": [
    "# Corrective Rag(CRAG) using local LLMS\n",
    "\n",
    "Corrective-RAG (CRAG) is a strategy for RAG that incorporates self-reflection / self-grading on retrieved documents.\n",
    "\n",
    "The logic follows this general flow:\n",
    "\n",
    "- If at least one document exceeds the threshold for relevance, then it proceeds to generation\n",
    "- If all documents fall below the relevance threshold or if the grader is unsure, then it uses web search to supplement retrieval\n",
    "Before generation, it performs knowledge refinement of the search or retrieved documents\n",
    "- This partitions the document into knowledge strips\n",
    "It grades each strip, and filters out irrelevant ones\n",
    "We will implement some of these ideas from scratch using LangGraph:\n",
    "\n",
    "- If any documents are irrelevant, we'll supplement retrieval with web search.\n",
    "We'll skip the knowledge refinement, but this can be added back as a node if desired.\n",
    "We'll use Tavily Search for web search."
   ]
  },
  {
   "cell_type": "code",
   "execution_count": 1,
   "id": "5f091fa3",
   "metadata": {},
   "outputs": [],
   "source": [
    "import getpass \n",
    "import os \n",
    "from dotenv import load_dotenv\n",
    "\n",
    "load_dotenv()\n",
    "\n",
    "GROK_API_KEY = os.getenv(\"GROK_API_KEY\")\n",
    "TAVILY_API_KEY = os.getenv(\"TAVILY_API_KEY\")\n",
    "LANGSMITH_API_KEY = os.getenv(\"LANGSMITH_API_KEY\")\n",
    "HG_FACE_API_KEY = os.getenv(\"HG_FACE_API_KEY\")"
   ]
  },
  {
   "cell_type": "code",
   "execution_count": 2,
   "id": "d40ddc04",
   "metadata": {},
   "outputs": [
    {
     "data": {
      "text/plain": [
       "ListResponse(models=[Model(model='wizardlm2:latest', modified_at=datetime.datetime(2025, 3, 1, 23, 49, 4, 295170, tzinfo=TzInfo(+03:00)), digest='c9b1aff820f245a43b1719b296ce7131746073691cbb56f7a8d88a4713a3df79', size=4108928625, details=ModelDetails(parent_model='', format='gguf', family='llama', families=['llama'], parameter_size='7B', quantization_level='Q4_0')), Model(model='mxbai-embed-large:latest', modified_at=datetime.datetime(2025, 3, 1, 23, 43, 45, 523887, tzinfo=TzInfo(+03:00)), digest='468836162de7f81e041c43663fedbbba921dcea9b9fefea135685a39b2d83dd8', size=669615493, details=ModelDetails(parent_model='', format='gguf', family='bert', families=['bert'], parameter_size='334M', quantization_level='F16')), Model(model='nomic-embed-text:latest', modified_at=datetime.datetime(2025, 2, 25, 15, 1, 57, 368958, tzinfo=TzInfo(+03:00)), digest='0a109f422b47e3a30ba2b10eca18548e944e8a23073ee3f3e947efcf3c45e59f', size=274302450, details=ModelDetails(parent_model='', format='gguf', family='nomic-bert', families=['nomic-bert'], parameter_size='137M', quantization_level='F16')), Model(model='chroma/all-minilm-l6-v2-f32:latest', modified_at=datetime.datetime(2025, 2, 25, 12, 26, 44, 235140, tzinfo=TzInfo(+03:00)), digest='6c031a734080a617b5edfa99adaa9fc7424c4b7f3ae2099bdac710abb3f54ee6', size=91028860, details=ModelDetails(parent_model='', format='gguf', family='bert', families=['bert'], parameter_size='23M', quantization_level='F32')), Model(model='qwen2.5:latest', modified_at=datetime.datetime(2025, 2, 12, 10, 28, 37, 212036, tzinfo=TzInfo(+03:00)), digest='845dbda0ea48ed749caafd9e6037047aa19acfcfd82e704d7ca97d631a0b697e', size=4683087332, details=ModelDetails(parent_model='', format='gguf', family='qwen2', families=['qwen2'], parameter_size='7.6B', quantization_level='Q4_K_M')), Model(model='deepseek-r1:7b', modified_at=datetime.datetime(2025, 2, 11, 15, 48, 2, 645805, tzinfo=TzInfo(+03:00)), digest='0a8c266910232fd3291e71e5ba1e058cc5af9d411192cf88b6d30e92b6e73163', size=4683075271, details=ModelDetails(parent_model='', format='gguf', family='qwen2', families=['qwen2'], parameter_size='7.6B', quantization_level='Q4_K_M')), Model(model='llama3.2:latest', modified_at=datetime.datetime(2025, 2, 6, 12, 19, 38, 28978, tzinfo=TzInfo(+03:00)), digest='a80c4f17acd55265feec403c7aef86be0c25983ab279d83f3bcd3abbcb5b8b72', size=2019393189, details=ModelDetails(parent_model='', format='gguf', family='llama', families=['llama'], parameter_size='3.2B', quantization_level='Q4_K_M'))])"
      ]
     },
     "execution_count": 2,
     "metadata": {},
     "output_type": "execute_result"
    }
   ],
   "source": [
    "import ollama \n",
    "available_models = ollama.list()\n",
    "available_models"
   ]
  },
  {
   "cell_type": "code",
   "execution_count": 3,
   "id": "711adcd8",
   "metadata": {},
   "outputs": [],
   "source": [
    "# local_llm = \"llama3.2:latest\"\n",
    "local_llm = \"qwen2.5:latest\"\n",
    "model_tested = \"llama3.2:latest\"\n",
    "metadata = f\"CRAG, {model_tested}\""
   ]
  },
  {
   "cell_type": "markdown",
   "id": "ad78f5da",
   "metadata": {},
   "source": [
    "# Creating Index or Vector store "
   ]
  },
  {
   "cell_type": "code",
   "execution_count": 4,
   "id": "efe5690d",
   "metadata": {},
   "outputs": [
    {
     "name": "stderr",
     "output_type": "stream",
     "text": [
      "USER_AGENT environment variable not set, consider setting it to identify your requests.\n"
     ]
    },
    {
     "name": "stdout",
     "output_type": "stream",
     "text": [
      "Number of documents: 3\n",
      "Number of splits: 195\n"
     ]
    }
   ],
   "source": [
    "from langchain.text_splitter import RecursiveCharacterTextSplitter\n",
    "from langchain_community.document_loaders import WebBaseLoader\n",
    "from langchain_community.vectorstores import SKLearnVectorStore, Chroma\n",
    "import faiss\n",
    "from langchain_community.docstore.in_memory import InMemoryDocstore\n",
    "from langchain_community.vectorstores import FAISS\n",
    "from langchain_ollama import OllamaEmbeddings\n",
    "\n",
    "\n",
    "# URL list to scrape\n",
    "\n",
    "urls = [\n",
    "    \"https://lilianweng.github.io/posts/2023-06-23-agent/\",\n",
    "    \"https://lilianweng.github.io/posts/2023-03-15-prompt-engineering/\",\n",
    "    \"https://lilianweng.github.io/posts/2023-10-25-adv-attack-llm/\",\n",
    "]\n",
    "\n",
    "# load documents from url \n",
    "docs = [WebBaseLoader(url).load() for url in urls]\n",
    "docs_lists = [item for sublist in docs for item in sublist] # Basically flatten the list\n",
    "\n",
    "# Initialize a text splitter with specified chunksize and overlap \n",
    "\n",
    "test_splitter = RecursiveCharacterTextSplitter.from_tiktoken_encoder(\n",
    "    chunk_size = 250,\n",
    "    chunk_overlap = 10\n",
    ")\n",
    "\n",
    "# Split the documents into smaller chunks \n",
    "doc_splits = test_splitter.split_documents(docs_lists)\n",
    "print(f\"Number of documents: {len(docs_lists)}\")\n",
    "print(f\"Number of splits: {len(doc_splits)}\")\n",
    "# print(f\"First split: {doc_splits[0].page_content}\")\n",
    "# print(f\"First document: {docs_lists[0].page_content}\")\n",
    "\n",
    "# Embeddings \n",
    "\n",
    "embedding = OllamaEmbeddings(model=\"chroma/all-minilm-l6-v2-f32:latest\")\n",
    "\n",
    "vectorstore = Chroma.from_documents(\n",
    "    documents = doc_splits,\n",
    "    collection_name = \"rag_chroma\",\n",
    "    embedding = embedding\n",
    ")\n",
    "\n",
    "\n",
    "retriever = vectorstore.as_retriever(  search_type=\"mmr\",\n",
    "        search_kwargs={'k': 5})"
   ]
  },
  {
   "cell_type": "code",
   "execution_count": 6,
   "id": "31b99db5",
   "metadata": {},
   "outputs": [
    {
     "name": "stdout",
     "output_type": "stream",
     "text": [
      "{'score': 'Yes'}\n"
     ]
    }
   ],
   "source": [
    "# Define Tools\n",
    "### Retrieval Grader \n",
    "\n",
    "from langchain.prompts import PromptTemplate\n",
    "from langchain_ollama import ChatOllama\n",
    "from langchain_core.output_parsers import JsonOutputParser\n",
    "\n",
    "llm = ChatOllama(model=local_llm, format=\"json\", temperature=0, num_ctx=4000)\n",
    "\n",
    "# Prompt \n",
    "prompt = PromptTemplate(\n",
    "    template=\"\"\"You are a teacher grading a quiz. You will be given: \n",
    "    1/ a QUESTION\n",
    "    2/ A FACT provided by the student\n",
    "    \n",
    "    You are grading RELEVANCE RECALL:\n",
    "    A score of 1 means that ANY of the statements in the FACT are relevant to the QUESTION. \n",
    "    A score of 0 means that NONE of the statements in the FACT are relevant to the QUESTION. \n",
    "    1 is the highest (best) score. 0 is the lowest score you can give. \n",
    "    \n",
    "    Explain your reasoning in a step-by-step manner. Ensure your reasoning and conclusion are correct. \n",
    "    \n",
    "    Avoid simply stating the correct answer at the outset.\n",
    "    \n",
    "    Question: {question} \\n\n",
    "    Fact: \\n\\n {documents} \\n\\n\n",
    "    \n",
    "    Give a binary score 'Yes' or 'No' score to indicate whether the document is relevant to the question. \\n\n",
    "    Provide the binary score as a JSON with a single key 'score' and no premable or explanation.\n",
    "    \"\"\",\n",
    "    input_variables=[\"question\", \"documents\"],\n",
    ")\n",
    "\n",
    "retrieval_grader = prompt | llm | JsonOutputParser()\n",
    "question = \"agent memory\"\n",
    "\n",
    "docs = retriever.invoke(question)\n",
    "\n",
    "# doc_txt = docs[0].page_content\n",
    "\n",
    "print(retrieval_grader.invoke({\"question\": question, \"documents\": docs}))\n"
   ]
  },
  {
   "cell_type": "code",
   "execution_count": 7,
   "id": "b7915247",
   "metadata": {},
   "outputs": [
    {
     "name": "stdout",
     "output_type": "stream",
     "text": [
      "The types of agent memory include short-term memory and long-term memory. Short-term memory is used for in-context learning, while long-term memory allows the agent to retain and recall information over extended periods by leveraging an external vector store.\n"
     ]
    }
   ],
   "source": [
    "### Generate \n",
    "from langchain_core.output_parsers import StrOutputParser\n",
    "\n",
    "# Prompt \n",
    "prompt = PromptTemplate(\n",
    "    template = \"\"\"You are an assistant for question-answering tasks. \n",
    "    \n",
    "    Use the following documents to answer the question. \n",
    "    \n",
    "    If you don't know the answer, just say that you don't know. \n",
    "    \n",
    "    Use three sentences maximum and keep the answer concise:\n",
    "    Question: {question} \n",
    "    Documents: {documents} \n",
    "    Answer: \n",
    "    \"\"\",\n",
    "    input_variables=[\"question\", \"documents\"],\n",
    ")\n",
    "\n",
    "# LLM \n",
    "llm = ChatOllama(model=local_llm, temperature=0, num_ctx=4000)\n",
    "\n",
    "# Chain \n",
    "rag_chain = prompt | llm | StrOutputParser()\n",
    "\n",
    "# Runnning \n",
    "query = \"what are the types of agent memory?\"\n",
    "generation = rag_chain.invoke({\"documents\": docs, \"question\": query})\n",
    "print(generation)"
   ]
  },
  {
   "cell_type": "code",
   "execution_count": 8,
   "id": "9f737098",
   "metadata": {},
   "outputs": [],
   "source": [
    "# Searching tool\n",
    "from langchain_community.tools.tavily_search import TavilySearchResults\n",
    "web_search_tool = TavilySearchResults(k=3, TAVILY_API_KEY=TAVILY_API_KEY)"
   ]
  },
  {
   "cell_type": "markdown",
   "id": "cdfcd3a0",
   "metadata": {},
   "source": [
    "## Ceating the Graph"
   ]
  },
  {
   "cell_type": "code",
   "execution_count": 9,
   "id": "d3435bde",
   "metadata": {},
   "outputs": [
    {
     "data": {
      "image/png": "[encoded data removed]",
      "text/plain": [
       "<IPython.core.display.Image object>"
      ]
     },
     "metadata": {},
     "output_type": "display_data"
    }
   ],
   "source": [
    "from typing import List \n",
    "from typing_extensions import TypedDict\n",
    "from IPython.display import Image, display \n",
    "from langchain.schema import Document \n",
    "from langgraph.graph import START, END, StateGraph\n",
    "\n",
    "\n",
    "class GraphState(TypedDict):\n",
    "    \"\"\" \n",
    "    Respresents the state of our graph \n",
    "\n",
    "    Attributes:\n",
    "    question: question\n",
    "    generation: LLM generation \n",
    "    search: whether to add search \n",
    "    documents: list of documents\n",
    "    \"\"\"\n",
    "\n",
    "    question: str\n",
    "    generation: str\n",
    "    search: str \n",
    "    documents: List[str]\n",
    "    steps: List[str]\n",
    "\n",
    "def retrieve(state):\n",
    "     \"\"\"\n",
    "    Retrieve documents\n",
    "\n",
    "    Args:\n",
    "        state (dict): The current graph state\n",
    "\n",
    "    Returns:\n",
    "        state (dict): New key added to state, documents, that contains retrieved documents\n",
    "    \"\"\"\n",
    "     question = state[\"question\"]\n",
    "     documents = retriever.invoke(question)\n",
    "     steps = state[\"steps\"]\n",
    "     steps.append(\"retrieve_document\")\n",
    "     return {\n",
    "         \"documents\": documents, \"question\": question, \"steps\": steps\n",
    "     }\n",
    "\n",
    "def generate(state):\n",
    "    \"\"\"\n",
    "    Generate answers\n",
    "    \n",
    "    Args: \n",
    "       state (dict): The current graph state\n",
    "\n",
    "    Returns:\n",
    "        state (dics): New key added to state, generation, that contains LLM generation\n",
    "    \"\"\"\n",
    "\n",
    "    question = state[\"question\"]\n",
    "    documents = state[\"documents\"]\n",
    "    generation = rag_chain.invoke({\"documents\": documents, \"question\": question})\n",
    "    steps = state[\"steps\"]\n",
    "    steps.append(\"generate_answer\")\n",
    "\n",
    "    return {\n",
    "        \"documenst\": documents,\n",
    "        \"question\": question,\n",
    "        \"generation\": generation,\n",
    "        \"steps\": steps,\n",
    "    }\n",
    "\n",
    "def grade_documents(state):\n",
    "    \"\"\"\n",
    "    Determines whether the retrieved documents are relevant to the question.\n",
    "    \n",
    "    Args:\n",
    "        state(dict): The current graph state\n",
    "\n",
    "    Returns:\n",
    "        state (dict): Updates documents key with only filtered relevant documents\n",
    "    \"\"\"\n",
    "    question = state[\"question\"]\n",
    "    documents = state[\"documents\"]\n",
    "    steps = state[\"steps\"]\n",
    "    steps.append(\"grade_document_retrieval\")\n",
    "    filtered_docs = []\n",
    "    search = \"No\"\n",
    "    for d in documents:\n",
    "        score = retrieval_grader.invoke(\n",
    "            {\"question\": question, \"documents\": d.page_content}\n",
    "        )\n",
    "        grade = score[\"score\"]\n",
    "        if grade == \"Yes\":\n",
    "            filtered_docs.append(d)\n",
    "        else:\n",
    "            search = \"yes\"\n",
    "            continue\n",
    "    return {\n",
    "        \"documents\": filtered_docs,\n",
    "        \"question\": question,\n",
    "        \"search\": search,\n",
    "        \"steps\": steps\n",
    "    }\n",
    "\n",
    "def web_search(state):\n",
    "     \"\"\"\n",
    "    Web search based on the re-phrased question.\n",
    "\n",
    "    Args:\n",
    "        state (dict): The current graph state\n",
    "\n",
    "    Returns:\n",
    "        state (dict): Updates documents key with appended web results\n",
    "    \"\"\"\n",
    "     \n",
    "     question = state[\"question\"]\n",
    "     documents = state.get(\"documents\", [])\n",
    "     steps = state[\"steps\"]\n",
    "     steps.append(\"web_search\")\n",
    "     web_results = web_search_tool.invoke({\"query\": \"question\"})\n",
    "     documents.extend(\n",
    "         [\n",
    "             Document(page_content=d[\"content\"], metadata={\"url\": d[\"url\"]})\n",
    "             for d in web_results\n",
    "         ]\n",
    "     )\n",
    "\n",
    "     return {\n",
    "         \"documents\": documents, \"question\": question, \"steps\": steps\n",
    "     }\n",
    "\n",
    "def decide_to_generate(state):\n",
    "     \"\"\"\n",
    "    Determines whether to generate an answer, or re-generate a question.\n",
    "\n",
    "    Args:\n",
    "        state (dict): The current graph state\n",
    "\n",
    "    Returns:\n",
    "        str: Binary decision for next node to call\n",
    "    \"\"\"\n",
    "     search = state[\"search\"]\n",
    "     if search == \"Yes\":\n",
    "         return search\n",
    "     else:\n",
    "         return \"generate\"\n",
    "     \n",
    "# Graph \n",
    "workflow = StateGraph(GraphState)\n",
    "\n",
    "# Define the nodes \n",
    "workflow.add_node(\"retrieve\", retrieve) # retrieve\n",
    "workflow.add_node(\"grade_documents\", grade_documents) # grade documents\n",
    "workflow.add_node(\"generate\", generate) # generate \n",
    "workflow.add_node(\"web_search\", web_search)\n",
    "\n",
    "# Build graph \n",
    "\n",
    "workflow.add_edge(START, \"retrieve\")\n",
    "workflow.add_edge(\"retrieve\", \"grade_documents\")\n",
    "workflow.add_conditional_edges(\n",
    "    \"grade_documents\",\n",
    "    decide_to_generate,\n",
    "    {\n",
    "        \"search\": \"web_search\",\n",
    "        \"generate\": \"generate\",\n",
    "    }\n",
    ")\n",
    "\n",
    "workflow.add_edge(\"web_search\", \"generate\")\n",
    "workflow.add_edge(\"generate\", END)\n",
    "\n",
    "custom_graph = workflow.compile()\n",
    "\n",
    "display(Image(custom_graph.get_graph(xray=True).draw_mermaid_png()))\n"
   ]
  },
  {
   "cell_type": "code",
   "execution_count": 10,
   "id": "bf178e19",
   "metadata": {},
   "outputs": [
    {
     "data": {
      "text/plain": [
       "{'response': 'The types of agent memory include short-term memory and long-term memory. Short-term memory involves in-context learning, while long-term memory allows the agent to retain and recall information over extended periods using an external vector store.',\n",
       " 'steps': ['retrieve_document', 'grade_document_retrieval', 'generate_answer']}"
      ]
     },
     "execution_count": 10,
     "metadata": {},
     "output_type": "execute_result"
    }
   ],
   "source": [
    "import uuid \n",
    "\n",
    "def predict_custom_agent_local_answe(example: dict):\n",
    "    config = {\"configuration\": {\"thread_id\": str(uuid.uuid4())}}\n",
    "    state_dict = custom_graph.invoke(\n",
    "        {\"question\": example[\"input\"], \"steps\": []}, config\n",
    "    ) \n",
    "\n",
    "    return {\"response\": state_dict[\"generation\"], \"steps\": state_dict[\"steps\"]}\n",
    "\n",
    "example = {\"input\": \"what are the types of agent memory?\"}\n",
    "\n",
    "response = predict_custom_agent_local_answe(example)\n",
    "response "
   ]
  },
  {
   "cell_type": "code",
   "execution_count": null,
   "id": "7e62bd12",
   "metadata": {},
   "outputs": [],
   "source": []
  },
  {
   "cell_type": "code",
   "execution_count": null,
   "id": "0866f805",
   "metadata": {},
   "outputs": [],
   "source": []
  },
  {
   "cell_type": "code",
   "execution_count": null,
   "id": "dbea81be",
   "metadata": {},
   "outputs": [],
   "source": []
  }
 ],
 "metadata": {
  "kernelspec": {
   "display_name": "venv",
   "language": "python",
   "name": "python3"
  },
  "language_info": {
   "codemirror_mode": {
    "name": "ipython",
    "version": 3
   },
   "file_extension": ".py",
   "mimetype": "text/x-python",
   "name": "python",
   "nbconvert_exporter": "python",
   "pygments_lexer": "ipython3",
   "version": "3.12.3"
  }
 },
 "nbformat": 4,
 "nbformat_minor": 5
}
